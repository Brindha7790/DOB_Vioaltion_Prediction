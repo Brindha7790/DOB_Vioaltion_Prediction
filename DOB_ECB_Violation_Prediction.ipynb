{
 "cells": [
  {
   "cell_type": "code",
   "execution_count": 1,
   "metadata": {
    "collapsed": true
   },
   "outputs": [],
   "source": [
    "import numpy as np\n",
    "import pandas as pd\n",
    "import matplotlib.pyplot as plt\n",
    "import seaborn as sns\n",
    "import warnings\n",
    "warnings.filterwarnings(\"ignore\")"
   ]
  },
  {
   "cell_type": "code",
   "execution_count": 2,
   "metadata": {
    "collapsed": true
   },
   "outputs": [],
   "source": [
    "#Reading the DOB csv file as dataframe\n",
    "permitData = pd.read_csv('DOB_Permit_Issuance.csv')\n",
    "violationData = pd.read_csv('DOB_ECB_Violations.csv')\n",
    "appFillData = pd.read_csv('DOB_Job_Application_Filings.csv')"
   ]
  },
  {
   "cell_type": "code",
   "execution_count": 3,
   "metadata": {
    "collapsed": true
   },
   "outputs": [],
   "source": [
    "violationData = violationData[violationData['ISSUE_DATE'] != 0]\n",
    "violationData['Violation']=1"
   ]
  },
  {
   "cell_type": "markdown",
   "metadata": {},
   "source": [
    "# Filtering the data with date"
   ]
  },
  {
   "cell_type": "code",
   "execution_count": 4,
   "metadata": {
    "collapsed": true
   },
   "outputs": [],
   "source": [
    "violationData['ISSUE_DATE'] =  pd.to_datetime(violationData['ISSUE_DATE'], format='%Y%m%d')\n",
    "violationData['ISSUE_DATE'] =  pd.to_datetime(violationData['ISSUE_DATE'], format='%m/%d/%Y')\n",
    "permitData['Issuance Date'] =  pd.to_datetime(permitData['Issuance Date'],\n",
    "                                                   format='%m/%d/%Y %H:%M:%S %p' )\n",
    "permitData['Issuance Date'] =  pd.to_datetime(permitData['Issuance Date'], format='%m/%d/%Y')\n",
    "permitData['Expiration Date'] =  pd.to_datetime(permitData['Expiration Date'], \n",
    "                                                     format='%m/%d/%Y %H:%M:%S %p')\n",
    "permitData['Expiration Date'] =  pd.to_datetime(permitData['Expiration Date'], format='%m/%d/%Y')\n",
    "appFillData['Assigned'] =  pd.to_datetime(appFillData['Assigned'], format='%m/%d/%Y')\n",
    "violationData_2016_19 = violationData[(violationData['ISSUE_DATE'] > '12/31/2017')]\n",
    "appFillData_2016_19 = appFillData[appFillData['Assigned']> '12/31/2017']\n",
    "permitData_2016_19 = permitData[permitData['Issuance Date'] > '12/31/2017']"
   ]
  },
  {
   "cell_type": "code",
   "execution_count": 5,
   "metadata": {
    "collapsed": true
   },
   "outputs": [],
   "source": [
    "newColumns=['Job #','BOROUGH', 'Bin #', 'Job doc. #',\n",
    "       'Job Type', 'Self_Cert', 'Community Board', 'Bldg Type', 'Residential','Work Type', 'Permit Status', 'Permit Type',\n",
    "       'Permit Sequence #', 'Permit Subtype', 'Oil Gas', \"Permittee's License Type\", 'Act as Superintendent',\n",
    "        'HIC License',\"Owner's Business Type\", 'Non-Profit','LATITUDE','LONGITUDE','COUNCIL_DISTRICT','Issuance Date']\n",
    "permitData_2016_19 = permitData_2016_19[newColumns]\n",
    "newColumns= ['ECB_VIOLATION_STATUS','BIN', 'SEVERITY','VIOLATION_TYPE','AGGRAVATED_LEVEL','Violation']\n",
    "violationData_2016_19 = violationData_2016_19[newColumns]\n",
    "newColumns=['Bin #', 'Cluster','Landmarked', 'Adult Estab', 'Loft Board', 'City Owned', 'Little e',\n",
    "        'Plumbing', 'Mechanical', 'Boiler', 'Fuel Burning', 'Fuel Storage', 'Standpipe', 'Sprinkler', 'Fire Alarm',\n",
    "       'Equipment', 'Fire Suppression', 'Curb Cut', 'Other',       \n",
    "        'Professional Cert', 'Initial Cost','Total Est. Fee', 'Fee Status', 'Existing Zoning Sqft',\n",
    "       'Proposed Zoning Sqft', 'Horizontal Enlrgmt', 'Vertical Enlrgmt',\n",
    "       'Enlargement SQ Footage', 'Street Frontage', 'ExistingNo. of Stories',\n",
    "       'Proposed No. of Stories', 'Existing Height', 'Proposed Height',\n",
    "       'Existing Dwelling Units', 'Proposed Dwelling Units',\n",
    "       'Existing Occupancy', 'Proposed Occupancy', 'Site Fill',  'Owner Type', 'TOTAL_CONSTRUCTION_FLOOR_AREA', \n",
    "            'WITHDRAWAL_FLAG', 'JOB_NO_GOOD_COUNT']\n",
    "appFillData_2016_19 = appFillData_2016_19[newColumns]"
   ]
  },
  {
   "cell_type": "code",
   "execution_count": 6,
   "metadata": {
    "collapsed": true
   },
   "outputs": [],
   "source": [
    "appFillData_2016_19.rename(columns = {'Bin #':'BIN'}, inplace = True)\n",
    "permitData_2016_19.rename(columns = {'Bin #':'BIN'}, inplace = True)"
   ]
  },
  {
   "cell_type": "markdown",
   "metadata": {},
   "source": [
    "# Merging the data"
   ]
  },
  {
   "cell_type": "code",
   "execution_count": 7,
   "metadata": {},
   "outputs": [
    {
     "data": {
      "text/plain": [
       "(1007034, 65)"
      ]
     },
     "execution_count": 7,
     "metadata": {},
     "output_type": "execute_result"
    }
   ],
   "source": [
    "permitAndviolationdata = pd.merge(permitData_2016_19,appFillData_2016_19, on =['BIN'], how='outer')\n",
    "permitAndviolationdata.shape"
   ]
  },
  {
   "cell_type": "code",
   "execution_count": 8,
   "metadata": {},
   "outputs": [
    {
     "data": {
      "text/plain": [
       "(4064739, 70)"
      ]
     },
     "execution_count": 8,
     "metadata": {},
     "output_type": "execute_result"
    }
   ],
   "source": [
    "data = pd.merge(permitAndviolationdata,violationData_2016_19, on =['BIN'], how='outer')\n",
    "data.shape"
   ]
  },
  {
   "cell_type": "markdown",
   "metadata": {},
   "source": [
    "# Exploratory Data Analysis"
   ]
  },
  {
   "cell_type": "code",
   "execution_count": 9,
   "metadata": {
    "collapsed": true
   },
   "outputs": [],
   "source": [
    "data['BOROUGH'] = data['BOROUGH'].map({'MANHATTAN': 1, 'BRONX':2,\n",
    "                                                        'BROOKLYN':3, 'QUEENS':4, 'STATEN ISLAND':5})\n",
    "data['Violation'] = data['Violation'].fillna(0).astype(int)"
   ]
  },
  {
   "cell_type": "code",
   "execution_count": 10,
   "metadata": {
    "collapsed": true
   },
   "outputs": [],
   "source": [
    "data['BOROUGH'] = data['BOROUGH'].fillna(0).astype(int)"
   ]
  },
  {
   "cell_type": "code",
   "execution_count": 11,
   "metadata": {},
   "outputs": [
    {
     "data": {
      "text/plain": [
       "array([1, 2, 3, 4, 5, 0], dtype=int64)"
      ]
     },
     "execution_count": 11,
     "metadata": {},
     "output_type": "execute_result"
    }
   ],
   "source": [
    "data['BOROUGH'].unique()"
   ]
  },
  {
   "cell_type": "code",
   "execution_count": 12,
   "metadata": {},
   "outputs": [
    {
     "data": {
      "image/png": "[encoded data removed]",
      "text/plain": [
       "<matplotlib.figure.Figure at 0x14a7f211c88>"
      ]
     },
     "metadata": {},
     "output_type": "display_data"
    }
   ],
   "source": [
    "import seaborn as sns\n",
    "plt.figure(figsize = (5,5))\n",
    "sns.set(style = 'whitegrid')\n",
    "sns.countplot(x='Violation', data=data)\n",
    "plt.show()"
   ]
  },
  {
   "cell_type": "code",
   "execution_count": 13,
   "metadata": {},
   "outputs": [
    {
     "data": {
      "image/png": "[encoded data removed]",
      "text/plain": [
       "<matplotlib.figure.Figure at 0x148a2629400>"
      ]
     },
     "metadata": {},
     "output_type": "display_data"
    }
   ],
   "source": [
    "from matplotlib.pyplot import show\n",
    "import seaborn as sns\n",
    "sns.set(style=\"darkgrid\")\n",
    "total = float(len(data)) # one person per row \n",
    "#ax = sns.barplot(x=\"class\", hue=\"who\", data=titanic)\n",
    "ax = sns.countplot(x=\"BOROUGH\", hue=\"Violation\", data=data) # for Seaborn version 0.7 and more\n",
    "for p in ax.patches:\n",
    "    height = p.get_height()\n",
    "    ax.text(p.get_x()+p.get_width()/2.,\n",
    "            height + 3,\n",
    "            '{:1.2f}'.format(height/total),\n",
    "            ha=\"center\") \n",
    "plt.show()"
   ]
  },
  {
   "cell_type": "code",
   "execution_count": 14,
   "metadata": {},
   "outputs": [
    {
     "data": {
      "text/html": [
       "<div>\n",
       "<style>\n",
       "    .dataframe thead tr:only-child th {\n",
       "        text-align: right;\n",
       "    }\n",
       "\n",
       "    .dataframe thead th {\n",
       "        text-align: left;\n",
       "    }\n",
       "\n",
       "    .dataframe tbody tr th {\n",
       "        vertical-align: top;\n",
       "    }\n",
       "</style>\n",
       "<table border=\"1\" class=\"dataframe\">\n",
       "  <thead>\n",
       "    <tr style=\"text-align: right;\">\n",
       "      <th></th>\n",
       "      <th>BOROUGH</th>\n",
       "      <th>Violation</th>\n",
       "      <th>count</th>\n",
       "    </tr>\n",
       "  </thead>\n",
       "  <tbody>\n",
       "    <tr>\n",
       "      <th>0</th>\n",
       "      <td>0</td>\n",
       "      <td>0</td>\n",
       "      <td>13583</td>\n",
       "    </tr>\n",
       "    <tr>\n",
       "      <th>1</th>\n",
       "      <td>0</td>\n",
       "      <td>1</td>\n",
       "      <td>55824</td>\n",
       "    </tr>\n",
       "    <tr>\n",
       "      <th>2</th>\n",
       "      <td>1</td>\n",
       "      <td>0</td>\n",
       "      <td>219950</td>\n",
       "    </tr>\n",
       "    <tr>\n",
       "      <th>3</th>\n",
       "      <td>1</td>\n",
       "      <td>1</td>\n",
       "      <td>2636611</td>\n",
       "    </tr>\n",
       "    <tr>\n",
       "      <th>4</th>\n",
       "      <td>2</td>\n",
       "      <td>0</td>\n",
       "      <td>16729</td>\n",
       "    </tr>\n",
       "    <tr>\n",
       "      <th>5</th>\n",
       "      <td>2</td>\n",
       "      <td>1</td>\n",
       "      <td>68579</td>\n",
       "    </tr>\n",
       "    <tr>\n",
       "      <th>6</th>\n",
       "      <td>3</td>\n",
       "      <td>0</td>\n",
       "      <td>71560</td>\n",
       "    </tr>\n",
       "    <tr>\n",
       "      <th>7</th>\n",
       "      <td>3</td>\n",
       "      <td>1</td>\n",
       "      <td>424613</td>\n",
       "    </tr>\n",
       "    <tr>\n",
       "      <th>8</th>\n",
       "      <td>4</td>\n",
       "      <td>0</td>\n",
       "      <td>49300</td>\n",
       "    </tr>\n",
       "    <tr>\n",
       "      <th>9</th>\n",
       "      <td>4</td>\n",
       "      <td>1</td>\n",
       "      <td>304305</td>\n",
       "    </tr>\n",
       "    <tr>\n",
       "      <th>10</th>\n",
       "      <td>5</td>\n",
       "      <td>0</td>\n",
       "      <td>12295</td>\n",
       "    </tr>\n",
       "    <tr>\n",
       "      <th>11</th>\n",
       "      <td>5</td>\n",
       "      <td>1</td>\n",
       "      <td>191390</td>\n",
       "    </tr>\n",
       "  </tbody>\n",
       "</table>\n",
       "</div>"
      ],
      "text/plain": [
       "    BOROUGH  Violation    count\n",
       "0         0          0    13583\n",
       "1         0          1    55824\n",
       "2         1          0   219950\n",
       "3         1          1  2636611\n",
       "4         2          0    16729\n",
       "5         2          1    68579\n",
       "6         3          0    71560\n",
       "7         3          1   424613\n",
       "8         4          0    49300\n",
       "9         4          1   304305\n",
       "10        5          0    12295\n",
       "11        5          1   191390"
      ]
     },
     "execution_count": 14,
     "metadata": {},
     "output_type": "execute_result"
    }
   ],
   "source": [
    "data.groupby([\"BOROUGH\",\"Violation\"]).size().reset_index(name='count')"
   ]
  },
  {
   "cell_type": "code",
   "execution_count": 15,
   "metadata": {
    "collapsed": true
   },
   "outputs": [],
   "source": [
    "def plotCountPlot(x,y):    \n",
    "    sns.set(style=\"darkgrid\")\n",
    "    total = float(len(data)) # one person per row \n",
    "    #ax = sns.barplot(x=\"class\", hue=\"who\", data=titanic)\n",
    "    ax = sns.countplot(x=x, hue=y, data=data) # for Seaborn version 0.7 and more\n",
    "    for p in ax.patches:\n",
    "        height = p.get_height()\n",
    "        ax.text(p.get_x()+p.get_width()/2.,\n",
    "            height + 3,\n",
    "            '{:1.2f}'.format(height/total),\n",
    "            ha=\"center\") \n",
    "    plt.show()"
   ]
  },
  {
   "cell_type": "code",
   "execution_count": 16,
   "metadata": {},
   "outputs": [
    {
     "data": {
      "image/png": "[encoded data removed]",
      "text/plain": [
       "<matplotlib.figure.Figure at 0x149850df6a0>"
      ]
     },
     "metadata": {},
     "output_type": "display_data"
    }
   ],
   "source": [
    "data['Cluster'] = data['Cluster'].map({ 'N':0, 'Y':1,'D':2,'P':3})\n",
    "data['Cluster'] = data['Cluster'].fillna(99).astype(int)\n",
    "plotCountPlot(\"Cluster\",\"Violation\")"
   ]
  },
  {
   "cell_type": "code",
   "execution_count": 17,
   "metadata": {},
   "outputs": [
    {
     "data": {
      "image/png": "[encoded data removed]",
      "text/plain": [
       "<matplotlib.figure.Figure at 0x148cd0725c0>"
      ]
     },
     "metadata": {},
     "output_type": "display_data"
    }
   ],
   "source": [
    "data['Landmarked'] = data['Landmarked'].map({ 'N':0, 'Y':1,'L':2,'C':3})\n",
    "data['Landmarked'] = data['Landmarked'].fillna(99).astype(int)\n",
    "plotCountPlot(\"Landmarked\",\"Violation\")"
   ]
  },
  {
   "cell_type": "code",
   "execution_count": 18,
   "metadata": {},
   "outputs": [
    {
     "data": {
      "image/png": "[encoded data removed]",
      "text/plain": [
       "<matplotlib.figure.Figure at 0x148bfc1eef0>"
      ]
     },
     "metadata": {},
     "output_type": "display_data"
    }
   ],
   "source": [
    "data['Loft Board'] = data['Loft Board'].map({ 'N':0, 'Y':1})\n",
    "data['Loft Board'] = data['Loft Board'].fillna(0).astype(int)\n",
    "plotCountPlot(\"Loft Board\",\"Violation\")"
   ]
  },
  {
   "cell_type": "code",
   "execution_count": 19,
   "metadata": {},
   "outputs": [
    {
     "data": {
      "image/png": "[encoded data removed]",
      "text/plain": [
       "<matplotlib.figure.Figure at 0x148dfa659e8>"
      ]
     },
     "metadata": {},
     "output_type": "display_data"
    }
   ],
   "source": [
    "data['City Owned'] = data['City Owned'].map({ 'N':0, 'Y':1,'I':2,'M':3})\n",
    "data['City Owned'] = data['City Owned'].fillna(0).astype(int)\n",
    "plotCountPlot(\"City Owned\",\"Violation\")"
   ]
  },
  {
   "cell_type": "code",
   "execution_count": 20,
   "metadata": {},
   "outputs": [
    {
     "data": {
      "image/png": "[encoded data removed]",
      "text/plain": [
       "<matplotlib.figure.Figure at 0x148bcf1f400>"
      ]
     },
     "metadata": {},
     "output_type": "display_data"
    }
   ],
   "source": [
    "data['Little e'] = data['Little e'].map({ 'N':0, 'Y':1,'H':2,'M':3,'X':4})\n",
    "data['Little e'] = data['Little e'].fillna(0).astype(int)\n",
    "plotCountPlot(\"Little e\",\"Violation\")"
   ]
  },
  {
   "cell_type": "code",
   "execution_count": 21,
   "metadata": {},
   "outputs": [
    {
     "data": {
      "image/png": "[encoded data removed]",
      "text/plain": [
       "<matplotlib.figure.Figure at 0x1499134d208>"
      ]
     },
     "metadata": {},
     "output_type": "display_data"
    }
   ],
   "source": [
    "data['Plumbing'] = data['Plumbing'].map({ 'N':0, 'X':1})\n",
    "data['Plumbing'] = data['Plumbing'].fillna(0).astype(int)\n",
    "plotCountPlot(\"Plumbing\",\"Violation\")"
   ]
  },
  {
   "cell_type": "code",
   "execution_count": 22,
   "metadata": {},
   "outputs": [
    {
     "data": {
      "text/html": [
       "<div>\n",
       "<style>\n",
       "    .dataframe thead tr:only-child th {\n",
       "        text-align: right;\n",
       "    }\n",
       "\n",
       "    .dataframe thead th {\n",
       "        text-align: left;\n",
       "    }\n",
       "\n",
       "    .dataframe tbody tr th {\n",
       "        vertical-align: top;\n",
       "    }\n",
       "</style>\n",
       "<table border=\"1\" class=\"dataframe\">\n",
       "  <thead>\n",
       "    <tr style=\"text-align: right;\">\n",
       "      <th></th>\n",
       "      <th>Plumbing</th>\n",
       "      <th>Violation</th>\n",
       "      <th>count</th>\n",
       "    </tr>\n",
       "  </thead>\n",
       "  <tbody>\n",
       "    <tr>\n",
       "      <th>0</th>\n",
       "      <td>0</td>\n",
       "      <td>0</td>\n",
       "      <td>294260</td>\n",
       "    </tr>\n",
       "    <tr>\n",
       "      <th>1</th>\n",
       "      <td>0</td>\n",
       "      <td>1</td>\n",
       "      <td>3259049</td>\n",
       "    </tr>\n",
       "    <tr>\n",
       "      <th>2</th>\n",
       "      <td>1</td>\n",
       "      <td>0</td>\n",
       "      <td>89157</td>\n",
       "    </tr>\n",
       "    <tr>\n",
       "      <th>3</th>\n",
       "      <td>1</td>\n",
       "      <td>1</td>\n",
       "      <td>422273</td>\n",
       "    </tr>\n",
       "  </tbody>\n",
       "</table>\n",
       "</div>"
      ],
      "text/plain": [
       "   Plumbing  Violation    count\n",
       "0         0          0   294260\n",
       "1         0          1  3259049\n",
       "2         1          0    89157\n",
       "3         1          1   422273"
      ]
     },
     "execution_count": 22,
     "metadata": {},
     "output_type": "execute_result"
    }
   ],
   "source": [
    "data.groupby([\"Plumbing\",\"Violation\"]).size().reset_index(name='count')"
   ]
  },
  {
   "cell_type": "code",
   "execution_count": 23,
   "metadata": {},
   "outputs": [
    {
     "data": {
      "image/png": "[encoded data removed]",
      "text/plain": [
       "<matplotlib.figure.Figure at 0x1499134d2b0>"
      ]
     },
     "metadata": {},
     "output_type": "display_data"
    }
   ],
   "source": [
    "data['Mechanical'] = data['Mechanical'].map({ 'N':0, 'X':1})\n",
    "data['Mechanical'] = data['Mechanical'].fillna(0).astype(int)\n",
    "plotCountPlot(\"Mechanical\",\"Violation\")"
   ]
  },
  {
   "cell_type": "code",
   "execution_count": 24,
   "metadata": {},
   "outputs": [
    {
     "data": {
      "image/png": "[encoded data removed]",
      "text/plain": [
       "<matplotlib.figure.Figure at 0x1498e6d5630>"
      ]
     },
     "metadata": {},
     "output_type": "display_data"
    }
   ],
   "source": [
    "data['Boiler'] = data['Boiler'].map({ 'N':0, 'X':1})\n",
    "data['Boiler'] = data['Boiler'].fillna(0).astype(int)\n",
    "plotCountPlot(\"Boiler\",\"Violation\")"
   ]
  },
  {
   "cell_type": "code",
   "execution_count": 25,
   "metadata": {},
   "outputs": [
    {
     "data": {
      "image/png": "[encoded data removed]",
      "text/plain": [
       "<matplotlib.figure.Figure at 0x148a8f4ccf8>"
      ]
     },
     "metadata": {},
     "output_type": "display_data"
    }
   ],
   "source": [
    "data['Residential']=data['Residential'].map({ 'NO':0, 'YES':1})\n",
    "data['Residential']=data['Residential'].fillna(0).astype(int)\n",
    "plotCountPlot(\"Residential\",\"Violation\")"
   ]
  },
  {
   "cell_type": "code",
   "execution_count": 26,
   "metadata": {},
   "outputs": [
    {
     "data": {
      "image/png": "[encoded data removed]",
      "text/plain": [
       "<matplotlib.figure.Figure at 0x149a3bbd5c0>"
      ]
     },
     "metadata": {},
     "output_type": "display_data"
    }
   ],
   "source": [
    "data['Existing Zoning Sqft'] = data['Existing Zoning Sqft'].fillna(9999999).astype(int)\n",
    "data['Proposed Zoning Sqft'] = data['Proposed Zoning Sqft'].fillna(9999999).astype(int)\n",
    "data['isSqft>1000'] = ((data['Existing Zoning Sqft'] > 1000) & (data['Proposed Zoning Sqft'] > 1000)).astype(int)\n",
    "plotCountPlot(\"isSqft>1000\",\"Violation\")"
   ]
  },
  {
   "cell_type": "code",
   "execution_count": 27,
   "metadata": {},
   "outputs": [
    {
     "data": {
      "image/png": "[encoded data removed]",
      "text/plain": [
       "<matplotlib.figure.Figure at 0x148acf5dac8>"
      ]
     },
     "metadata": {},
     "output_type": "display_data"
    }
   ],
   "source": [
    "data['Existing Height'] = data['Existing Height'].fillna(9999999)\n",
    "data['Proposed Height'] = data['Proposed Height'].fillna(9999999)\n",
    "data['isHeight_Above500'] = ((data['Existing Height'] >= 500) & (data['Proposed Height'] >= 500) ).astype(int)\n",
    "plotCountPlot(\"isHeight_Above500\",\"Violation\")"
   ]
  },
  {
   "cell_type": "code",
   "execution_count": 28,
   "metadata": {},
   "outputs": [
    {
     "data": {
      "image/png": "[encoded data removed]",
      "text/plain": [
       "<matplotlib.figure.Figure at 0x1498d96bc88>"
      ]
     },
     "metadata": {},
     "output_type": "display_data"
    }
   ],
   "source": [
    "data['Street Frontage'] = data['Street Frontage'].fillna(9999999)\n",
    "data['isEnlrgmtSQFT_Above1000'] = (data['Street Frontage'] >= 1000).astype(int)\n",
    "plotCountPlot(\"isEnlrgmtSQFT_Above1000\",\"Violation\")"
   ]
  },
  {
   "cell_type": "code",
   "execution_count": 29,
   "metadata": {},
   "outputs": [
    {
     "data": {
      "image/png": "[encoded data removed]",
      "text/plain": [
       "<matplotlib.figure.Figure at 0x148ccddeb70>"
      ]
     },
     "metadata": {},
     "output_type": "display_data"
    }
   ],
   "source": [
    "data['ExistingNo. of Stories'] = data['ExistingNo. of Stories'].fillna(9999999).astype(int)\n",
    "data['Proposed No. of Stories'] = data['Proposed No. of Stories'].fillna(9999999).astype(int)\n",
    "data['is10Stories_Above'] = ((data['Proposed No. of Stories'] >= 10) & (data['ExistingNo. of Stories'] >= 10) ).astype(int)\n",
    "plotCountPlot(\"is10Stories_Above\",\"Violation\")"
   ]
  },
  {
   "cell_type": "code",
   "execution_count": 30,
   "metadata": {},
   "outputs": [
    {
     "data": {
      "image/png": "[encoded data removed]",
      "text/plain": [
       "<matplotlib.figure.Figure at 0x148ce5fc550>"
      ]
     },
     "metadata": {},
     "output_type": "display_data"
    }
   ],
   "source": [
    "data['Existing Dwelling Units']=data['Existing Dwelling Units'].fillna(0).astype(int)\n",
    "data['Proposed Dwelling Units']=data['Proposed Dwelling Units'].fillna(0).astype(int)\n",
    "data['isExiDwel_Above100'] = ((data['Existing Dwelling Units'] >= 100) & \n",
    "                              (data['Proposed Dwelling Units'] >= 100) ).astype(int)\n",
    "plotCountPlot(\"isExiDwel_Above100\",\"Violation\")"
   ]
  },
  {
   "cell_type": "code",
   "execution_count": 31,
   "metadata": {},
   "outputs": [
    {
     "data": {
      "image/png": "[encoded data removed]",
      "text/plain": [
       "<matplotlib.figure.Figure at 0x1498bb23048>"
      ]
     },
     "metadata": {},
     "output_type": "display_data"
    }
   ],
   "source": [
    "data['occupancyFlag'] = (data['Existing Occupancy']==data['Proposed Occupancy']).astype(int)\n",
    "plotCountPlot(\"occupancyFlag\",\"Violation\")"
   ]
  },
  {
   "cell_type": "code",
   "execution_count": 32,
   "metadata": {},
   "outputs": [
    {
     "data": {
      "text/html": [
       "<div>\n",
       "<style>\n",
       "    .dataframe thead tr:only-child th {\n",
       "        text-align: right;\n",
       "    }\n",
       "\n",
       "    .dataframe thead th {\n",
       "        text-align: left;\n",
       "    }\n",
       "\n",
       "    .dataframe tbody tr th {\n",
       "        vertical-align: top;\n",
       "    }\n",
       "</style>\n",
       "<table border=\"1\" class=\"dataframe\">\n",
       "  <thead>\n",
       "    <tr style=\"text-align: right;\">\n",
       "      <th></th>\n",
       "      <th>Owner Type</th>\n",
       "      <th>Violation</th>\n",
       "      <th>count</th>\n",
       "    </tr>\n",
       "  </thead>\n",
       "  <tbody>\n",
       "    <tr>\n",
       "      <th>0</th>\n",
       "      <td>0</td>\n",
       "      <td>0</td>\n",
       "      <td>96300</td>\n",
       "    </tr>\n",
       "    <tr>\n",
       "      <th>1</th>\n",
       "      <td>0</td>\n",
       "      <td>1</td>\n",
       "      <td>1090140</td>\n",
       "    </tr>\n",
       "    <tr>\n",
       "      <th>2</th>\n",
       "      <td>1</td>\n",
       "      <td>0</td>\n",
       "      <td>149364</td>\n",
       "    </tr>\n",
       "    <tr>\n",
       "      <th>3</th>\n",
       "      <td>1</td>\n",
       "      <td>1</td>\n",
       "      <td>2119107</td>\n",
       "    </tr>\n",
       "    <tr>\n",
       "      <th>4</th>\n",
       "      <td>2</td>\n",
       "      <td>0</td>\n",
       "      <td>46227</td>\n",
       "    </tr>\n",
       "    <tr>\n",
       "      <th>5</th>\n",
       "      <td>2</td>\n",
       "      <td>1</td>\n",
       "      <td>108804</td>\n",
       "    </tr>\n",
       "    <tr>\n",
       "      <th>6</th>\n",
       "      <td>3</td>\n",
       "      <td>0</td>\n",
       "      <td>28987</td>\n",
       "    </tr>\n",
       "    <tr>\n",
       "      <th>7</th>\n",
       "      <td>3</td>\n",
       "      <td>1</td>\n",
       "      <td>168434</td>\n",
       "    </tr>\n",
       "    <tr>\n",
       "      <th>8</th>\n",
       "      <td>4</td>\n",
       "      <td>0</td>\n",
       "      <td>13794</td>\n",
       "    </tr>\n",
       "    <tr>\n",
       "      <th>9</th>\n",
       "      <td>4</td>\n",
       "      <td>1</td>\n",
       "      <td>54992</td>\n",
       "    </tr>\n",
       "    <tr>\n",
       "      <th>10</th>\n",
       "      <td>5</td>\n",
       "      <td>0</td>\n",
       "      <td>4309</td>\n",
       "    </tr>\n",
       "    <tr>\n",
       "      <th>11</th>\n",
       "      <td>5</td>\n",
       "      <td>1</td>\n",
       "      <td>23349</td>\n",
       "    </tr>\n",
       "    <tr>\n",
       "      <th>12</th>\n",
       "      <td>6</td>\n",
       "      <td>0</td>\n",
       "      <td>3631</td>\n",
       "    </tr>\n",
       "    <tr>\n",
       "      <th>13</th>\n",
       "      <td>6</td>\n",
       "      <td>1</td>\n",
       "      <td>4187</td>\n",
       "    </tr>\n",
       "    <tr>\n",
       "      <th>14</th>\n",
       "      <td>7</td>\n",
       "      <td>1</td>\n",
       "      <td>78</td>\n",
       "    </tr>\n",
       "    <tr>\n",
       "      <th>15</th>\n",
       "      <td>8</td>\n",
       "      <td>0</td>\n",
       "      <td>97</td>\n",
       "    </tr>\n",
       "    <tr>\n",
       "      <th>16</th>\n",
       "      <td>8</td>\n",
       "      <td>1</td>\n",
       "      <td>542</td>\n",
       "    </tr>\n",
       "    <tr>\n",
       "      <th>17</th>\n",
       "      <td>9</td>\n",
       "      <td>0</td>\n",
       "      <td>186</td>\n",
       "    </tr>\n",
       "    <tr>\n",
       "      <th>18</th>\n",
       "      <td>9</td>\n",
       "      <td>1</td>\n",
       "      <td>94</td>\n",
       "    </tr>\n",
       "    <tr>\n",
       "      <th>19</th>\n",
       "      <td>10</td>\n",
       "      <td>1</td>\n",
       "      <td>3121</td>\n",
       "    </tr>\n",
       "    <tr>\n",
       "      <th>20</th>\n",
       "      <td>11</td>\n",
       "      <td>0</td>\n",
       "      <td>279</td>\n",
       "    </tr>\n",
       "    <tr>\n",
       "      <th>21</th>\n",
       "      <td>11</td>\n",
       "      <td>1</td>\n",
       "      <td>6976</td>\n",
       "    </tr>\n",
       "    <tr>\n",
       "      <th>22</th>\n",
       "      <td>12</td>\n",
       "      <td>0</td>\n",
       "      <td>2</td>\n",
       "    </tr>\n",
       "    <tr>\n",
       "      <th>23</th>\n",
       "      <td>12</td>\n",
       "      <td>1</td>\n",
       "      <td>12</td>\n",
       "    </tr>\n",
       "    <tr>\n",
       "      <th>24</th>\n",
       "      <td>13</td>\n",
       "      <td>0</td>\n",
       "      <td>9</td>\n",
       "    </tr>\n",
       "    <tr>\n",
       "      <th>25</th>\n",
       "      <td>99</td>\n",
       "      <td>0</td>\n",
       "      <td>40232</td>\n",
       "    </tr>\n",
       "    <tr>\n",
       "      <th>26</th>\n",
       "      <td>99</td>\n",
       "      <td>1</td>\n",
       "      <td>101486</td>\n",
       "    </tr>\n",
       "  </tbody>\n",
       "</table>\n",
       "</div>"
      ],
      "text/plain": [
       "    Owner Type  Violation    count\n",
       "0            0          0    96300\n",
       "1            0          1  1090140\n",
       "2            1          0   149364\n",
       "3            1          1  2119107\n",
       "4            2          0    46227\n",
       "5            2          1   108804\n",
       "6            3          0    28987\n",
       "7            3          1   168434\n",
       "8            4          0    13794\n",
       "9            4          1    54992\n",
       "10           5          0     4309\n",
       "11           5          1    23349\n",
       "12           6          0     3631\n",
       "13           6          1     4187\n",
       "14           7          1       78\n",
       "15           8          0       97\n",
       "16           8          1      542\n",
       "17           9          0      186\n",
       "18           9          1       94\n",
       "19          10          1     3121\n",
       "20          11          0      279\n",
       "21          11          1     6976\n",
       "22          12          0        2\n",
       "23          12          1       12\n",
       "24          13          0        9\n",
       "25          99          0    40232\n",
       "26          99          1   101486"
      ]
     },
     "execution_count": 32,
     "metadata": {},
     "output_type": "execute_result"
    }
   ],
   "source": [
    "data['Owner Type'] = data['Owner Type'].map({ 'PARTNERSHIP':0, 'CORPORATION':1, 'INDIVIDUAL':2,\n",
    "                                                                     'CONDO/CO-OP':3, \"OTHER GOV'T AGENCY\":4, 'NYC AGENCY':5,\n",
    "                                                                     'NYCHA/HHC':6, 'NY STATE':7, 'HPD':8,'NYCHA':9,\n",
    "                                                                     'HHC':10, 'OTHER':11, 'DCAS':12, 'DOE':13})\n",
    "data['Owner Type'] = data['Owner Type'].fillna(99).astype(int)\n",
    "\n",
    "data.groupby([\"Owner Type\",\"Violation\"]).size()\n",
    "data.groupby([\"Owner Type\",\"Violation\"]).size().reset_index(name='count')"
   ]
  },
  {
   "cell_type": "code",
   "execution_count": 33,
   "metadata": {},
   "outputs": [
    {
     "data": {
      "image/png": "[encoded data removed]",
      "text/plain": [
       "<matplotlib.figure.Figure at 0x148e1030160>"
      ]
     },
     "metadata": {},
     "output_type": "display_data"
    }
   ],
   "source": [
    "ax = data['Owner Type'].value_counts().plot(kind='bar',\n",
    "                                    figsize=(14,8),\n",
    "                                    title=\"Violation Vs Owner Type\")\n",
    "ax.set_xlabel(\"Owner Type\")\n",
    "ax.set_ylabel(\"Frequency\")\n",
    "plt.show()"
   ]
  },
  {
   "cell_type": "code",
   "execution_count": 34,
   "metadata": {},
   "outputs": [
    {
     "data": {
      "image/png": "[encoded data removed]",
      "text/plain": [
       "<matplotlib.figure.Figure at 0x148d2211278>"
      ]
     },
     "metadata": {},
     "output_type": "display_data"
    }
   ],
   "source": [
    "data['TOTAL_CONSTRUCTION_FLOOR_AREA'] = data['TOTAL_CONSTRUCTION_FLOOR_AREA'].fillna(9999999)\n",
    "data['istotalCons_Above1000'] = (data['TOTAL_CONSTRUCTION_FLOOR_AREA'] >= 1000).astype(int)\n",
    "plotCountPlot(\"istotalCons_Above1000\",\"Violation\")"
   ]
  },
  {
   "cell_type": "code",
   "execution_count": 35,
   "metadata": {},
   "outputs": [
    {
     "data": {
      "text/plain": [
       "WITHDRAWAL_FLAG  Violation\n",
       "0                0             341003\n",
       "                 1            3566195\n",
       "1                0               2080\n",
       "                 1              10813\n",
       "2                0                324\n",
       "                 1               3061\n",
       "3                0                 49\n",
       "                 1                 68\n",
       "6                1                209\n",
       "9999999          0              39961\n",
       "                 1             100976\n",
       "dtype: int64"
      ]
     },
     "execution_count": 35,
     "metadata": {},
     "output_type": "execute_result"
    }
   ],
   "source": [
    "data['WITHDRAWAL_FLAG'] = data['WITHDRAWAL_FLAG'].fillna(9999999).astype(int)\n",
    "#plotCountPlot(\"WITHDRAWAL_FLAG\",\"Violation\")\n",
    "data.groupby([\"WITHDRAWAL_FLAG\",\"Violation\"]).size()"
   ]
  },
  {
   "cell_type": "code",
   "execution_count": 36,
   "metadata": {
    "collapsed": true
   },
   "outputs": [],
   "source": [
    "data['JOB_NO_GOOD_COUNT'].unique()\n",
    "data['JOB_NO_GOOD_COUNT'] = data['JOB_NO_GOOD_COUNT'].fillna(0).astype(int)"
   ]
  },
  {
   "cell_type": "code",
   "execution_count": 37,
   "metadata": {
    "collapsed": true
   },
   "outputs": [],
   "source": [
    "plt.clf()"
   ]
  },
  {
   "cell_type": "code",
   "execution_count": 38,
   "metadata": {
    "collapsed": true
   },
   "outputs": [],
   "source": [
    "# riskdf.hist (bins=50, figsize=(20,15), color = 'deepskyblue')\n",
    "# plt.show()"
   ]
  },
  {
   "cell_type": "markdown",
   "metadata": {},
   "source": [
    "# Model Creation"
   ]
  },
  {
   "cell_type": "code",
   "execution_count": 39,
   "metadata": {},
   "outputs": [
    {
     "name": "stdout",
     "output_type": "stream",
     "text": [
      "Total Applications 4064739\n",
      "Non violated Applications % 0.0943275816725256\n",
      "Violated Applications % 0.9056724183274744\n"
     ]
    }
   ],
   "source": [
    "## Imbalance Data Check\n",
    "nonviolatedApp =(data[data.Violation == 0]['Violation']).count()\n",
    "violatedApp =(data[data.Violation == 1]['Violation']).count()\n",
    "print(\"Total Applications\",data.shape[0])\n",
    "print(\"Non violated Applications %\",nonviolatedApp/data.shape[0] )\n",
    "print(\"Violated Applications %\",violatedApp/data.shape[0] )\n"
   ]
  },
  {
   "cell_type": "markdown",
   "metadata": {},
   "source": [
    "# Subsetting the important features"
   ]
  },
  {
   "cell_type": "code",
   "execution_count": 40,
   "metadata": {
    "collapsed": true
   },
   "outputs": [],
   "source": [
    "newColumns=['BOROUGH','Landmarked','City Owned','Little e','Plumbing','Mechanical','Boiler','Residential',\n",
    "'isSqft>1000','isHeight_Above500','isEnlrgmtSQFT_Above1000','is10Stories_Above',\n",
    "\"isExiDwel_Above100\",\"occupancyFlag\",\"Owner Type\", \"istotalCons_Above1000\",\"WITHDRAWAL_FLAG\",\"JOB_NO_GOOD_COUNT\",'Violation']"
   ]
  },
  {
   "cell_type": "code",
   "execution_count": 41,
   "metadata": {
    "collapsed": true
   },
   "outputs": [],
   "source": [
    "sampleData = data[data['Issuance Date'] > '01/31/2019']"
   ]
  },
  {
   "cell_type": "code",
   "execution_count": 42,
   "metadata": {
    "collapsed": true
   },
   "outputs": [],
   "source": [
    "newData = sampleData[newColumns]"
   ]
  },
  {
   "cell_type": "code",
   "execution_count": 43,
   "metadata": {},
   "outputs": [
    {
     "data": {
      "text/plain": [
       "(418749, 19)"
      ]
     },
     "execution_count": 43,
     "metadata": {},
     "output_type": "execute_result"
    }
   ],
   "source": [
    "newData.shape"
   ]
  },
  {
   "cell_type": "code",
   "execution_count": 44,
   "metadata": {},
   "outputs": [
    {
     "data": {
      "text/plain": [
       "BOROUGH                    0\n",
       "Landmarked                 0\n",
       "City Owned                 0\n",
       "Little e                   0\n",
       "Plumbing                   0\n",
       "Mechanical                 0\n",
       "Boiler                     0\n",
       "Residential                0\n",
       "isSqft>1000                0\n",
       "isHeight_Above500          0\n",
       "isEnlrgmtSQFT_Above1000    0\n",
       "is10Stories_Above          0\n",
       "isExiDwel_Above100         0\n",
       "occupancyFlag              0\n",
       "Owner Type                 0\n",
       "istotalCons_Above1000      0\n",
       "WITHDRAWAL_FLAG            0\n",
       "JOB_NO_GOOD_COUNT          0\n",
       "Violation                  0\n",
       "dtype: int64"
      ]
     },
     "execution_count": 44,
     "metadata": {},
     "output_type": "execute_result"
    }
   ],
   "source": [
    "newData.isnull().sum()"
   ]
  },
  {
   "cell_type": "code",
   "execution_count": 45,
   "metadata": {
    "collapsed": true
   },
   "outputs": [],
   "source": [
    "#newData['BIN'] = newData[newData['BIN'] != 'C855835']"
   ]
  },
  {
   "cell_type": "code",
   "execution_count": 46,
   "metadata": {
    "collapsed": true
   },
   "outputs": [],
   "source": [
    "# ['BIN', 'BOROUGH', 'Landmarked', 'City Owned', 'Little e', 'Plumbing',\n",
    "#        'Mechanical', 'Boiler', 'Residential', 'isSqft>1000',\n",
    "#        'isHeight_Above500', 'isEnlrgmtSQFT_Above1000', 'is10Stories_Above',\n",
    "#        'isExiDwel_Above100', 'occupancyFlag', 'Owner Type',\n",
    "#        'istotalCons_Above1000', 'WITHDRAWAL_FLAG', 'JOB_NO_GOOD_COUNT',\n",
    "#        'OT_OF'],\n",
    "newData['OT_OF'] = newData['Owner Type']*newData['occupancyFlag']\n",
    "newData['Plumbing_Mechanical'] = newData['Plumbing']*newData['Mechanical']\n",
    "newData['Mechanical_Boiler'] = newData['Mechanical']*newData['Boiler']\n",
    "newData['isSqft>1000_isHeight_Above500'] = newData['isSqft>1000']*newData['isHeight_Above500']"
   ]
  },
  {
   "cell_type": "code",
   "execution_count": 47,
   "metadata": {},
   "outputs": [
    {
     "data": {
      "text/plain": [
       "(418749, 23)"
      ]
     },
     "execution_count": 47,
     "metadata": {},
     "output_type": "execute_result"
    }
   ],
   "source": [
    "newData.dropna(axis = 'rows', inplace = True)\n",
    "newData.shape"
   ]
  },
  {
   "cell_type": "code",
   "execution_count": 48,
   "metadata": {},
   "outputs": [],
   "source": [
    "# newData = pd.concat([newData.drop('BOROUGH', axis=1), pd.get_dummies(newData['BOROUGH'],prefix='BOROUGH')], axis=1)\n",
    "# try:\n",
    "#     newData.drop('BOROUGH_0', axis=1)\n",
    "# except:\n",
    "#     print()\n",
    "# newData.shape"
   ]
  },
  {
   "cell_type": "code",
   "execution_count": 49,
   "metadata": {},
   "outputs": [
    {
     "data": {
      "text/plain": [
       "(418749, 23)"
      ]
     },
     "execution_count": 49,
     "metadata": {},
     "output_type": "execute_result"
    }
   ],
   "source": [
    "newData.shape"
   ]
  },
  {
   "cell_type": "code",
   "execution_count": 50,
   "metadata": {
    "collapsed": true
   },
   "outputs": [],
   "source": [
    "y = newData['Violation']\n",
    "newData.drop(['Violation'], axis =1 ,inplace = True)\n",
    "X = newData"
   ]
  },
  {
   "cell_type": "code",
   "execution_count": 51,
   "metadata": {
    "collapsed": true
   },
   "outputs": [],
   "source": [
    "from sklearn.model_selection import train_test_split\n",
    "X_train_org,X_test_org,y_train,y_test = train_test_split(X, y, random_state = 0,stratify=y)"
   ]
  },
  {
   "cell_type": "code",
   "execution_count": 52,
   "metadata": {
    "collapsed": true
   },
   "outputs": [],
   "source": [
    "from sklearn.preprocessing import MinMaxScaler, StandardScaler\n",
    "scaler = StandardScaler()\n",
    "X_train = scaler.fit_transform(X_train_org)\n",
    "X_test = scaler.transform(X_test_org)"
   ]
  },
  {
   "cell_type": "markdown",
   "metadata": {},
   "source": [
    "# LinearRegression Classification"
   ]
  },
  {
   "cell_type": "code",
   "execution_count": 88,
   "metadata": {},
   "outputs": [
    {
     "name": "stdout",
     "output_type": "stream",
     "text": [
      "Train score: 0.0860\n",
      "Test score: 0.0864\n"
     ]
    }
   ],
   "source": [
    "from sklearn.linear_model import LinearRegression\n",
    "lreg = LinearRegression()\n",
    "lreg.fit(X_train, y_train)\n",
    "print('Train score: %.4f'%lreg.score(X_train, y_train))\n",
    "print('Test score: %.4f'%lreg.score(X_test, y_test))"
   ]
  },
  {
   "cell_type": "code",
   "execution_count": 89,
   "metadata": {},
   "outputs": [
    {
     "name": "stdout",
     "output_type": "stream",
     "text": [
      "BOROUGH : 0.00003\n",
      "Landmarked : -0.00359\n",
      "City Owned : 0.01169\n",
      "Little e : 0.02986\n",
      "Plumbing : -0.02845\n",
      "Mechanical : -0.00334\n",
      "Boiler : 0.00482\n",
      "Residential : -0.00549\n",
      "isSqft>1000 : -0.03898\n",
      "isHeight_Above500 : 0.02740\n",
      "isEnlrgmtSQFT_Above1000 : 0.00642\n",
      "is10Stories_Above : 0.03775\n",
      "isExiDwel_Above100 : 0.03573\n",
      "occupancyFlag : -0.04893\n",
      "Owner Type : -0.10864\n",
      "istotalCons_Above1000 : -0.00345\n",
      "WITHDRAWAL_FLAG : 0.06476\n",
      "JOB_NO_GOOD_COUNT : -0.00442\n",
      "OT_OF : -0.01373\n",
      "Plumbing_Mechanical : 0.00990\n",
      "Mechanical_Boiler : 0.00608\n",
      "isSqft>1000_isHeight_Above500 : 0.00418\n"
     ]
    }
   ],
   "source": [
    "i= 0\n",
    "for x in X.columns:\n",
    "    print(x +\" : \"+ '%.5f'%lreg.coef_[i])\n",
    "    i= i+1"
   ]
  },
  {
   "cell_type": "code",
   "execution_count": null,
   "metadata": {
    "collapsed": true
   },
   "outputs": [],
   "source": [
    "# from sklearn.neighbors import KNeighborsClassifier\n",
    "# knn = KNeighborsClassifier(3)\n",
    "# knn.fit(X_train, y_train)\n"
   ]
  },
  {
   "cell_type": "code",
   "execution_count": null,
   "metadata": {
    "collapsed": true
   },
   "outputs": [],
   "source": [
    "# print(knn.score(X_train, y_train))\n",
    "# print(knn.score(X_test, y_test))"
   ]
  },
  {
   "cell_type": "markdown",
   "metadata": {},
   "source": [
    "# Decision Tree Classification"
   ]
  },
  {
   "cell_type": "code",
   "execution_count": 90,
   "metadata": {},
   "outputs": [
    {
     "name": "stdout",
     "output_type": "stream",
     "text": [
      "Accuracy Score train:0.897\n",
      "Accuracy Score train:0.894\n"
     ]
    }
   ],
   "source": [
    "## Decision Tree Classifier without hyper parameter tuning\n",
    "from sklearn.tree import DecisionTreeClassifier\n",
    "dtree = DecisionTreeClassifier(random_state=0)\n",
    "dtree.fit(X_train, y_train)\n",
    "print(\"Accuracy Score train:{:.3f}\".format(dtree.score(X_train, y_train)))\n",
    "print(\"Accuracy Score train:{:.3f}\".format(dtree.score(X_test, y_test)))  "
   ]
  },
  {
   "cell_type": "markdown",
   "metadata": {},
   "source": [
    "# LinearSVC Classification"
   ]
  },
  {
   "cell_type": "code",
   "execution_count": 91,
   "metadata": {},
   "outputs": [
    {
     "name": "stdout",
     "output_type": "stream",
     "text": [
      "Accuracy Score train: 0.8755751271249853\n",
      "Accuracy Score test: 0.8755540272046461\n"
     ]
    }
   ],
   "source": [
    "## Linear SVC without hyper - parameter tuning\n",
    "from sklearn.svm import LinearSVC\n",
    "linear_svm = LinearSVC().fit(X_train, y_train)\n",
    "print(\"Accuracy Score train:\", linear_svm.score(X_train, y_train))\n",
    "print(\"Accuracy Score test:\", linear_svm.score(X_test, y_test))"
   ]
  },
  {
   "cell_type": "markdown",
   "metadata": {},
   "source": [
    "## SVC without hyperparameter tuning"
   ]
  },
  {
   "cell_type": "code",
   "execution_count": null,
   "metadata": {
    "collapsed": true
   },
   "outputs": [],
   "source": [
    "\n",
    "from sklearn.svm import SVC\n",
    "svc = SVC()\n",
    "svc.fit(X_train, y_train)\n",
    "print(\"Accuracy Score train:\",svc.score(X_train, y_train))\n",
    "print(\"Accuracy Score test:\",svc.score(X_test, y_test))"
   ]
  },
  {
   "cell_type": "markdown",
   "metadata": {},
   "source": [
    "# RandomForest Classifier"
   ]
  },
  {
   "cell_type": "code",
   "execution_count": 54,
   "metadata": {},
   "outputs": [
    {
     "name": "stdout",
     "output_type": "stream",
     "text": [
      "Accuracy Score train: 0.8967939349362066\n",
      "Accuracy Score train: 0.8941712517193948\n"
     ]
    }
   ],
   "source": [
    "from sklearn.ensemble import RandomForestClassifier\n",
    "rf = RandomForestClassifier(random_state = 0)\n",
    "rf.fit(X_train,y_train)\n",
    "print(\"Accuracy Score train:\",rf.score(X_train, y_train))\n",
    "print(\"Accuracy Score train:\",rf.score(X_test, y_test))"
   ]
  },
  {
   "cell_type": "code",
   "execution_count": null,
   "metadata": {},
   "outputs": [
    {
     "name": "stdout",
     "output_type": "stream",
     "text": [
      "Parameter grid:\n",
      "{'C': [0.001, 0.01, 0.1, 1, 10, 100], 'gamma': [0.001, 0.01, 0.1, 1, 10, 100]}\n"
     ]
    }
   ],
   "source": [
    "## SVC - linear with hyperparameter tuning using gridsearch\n",
    "from sklearn.model_selection import GridSearchCV\n",
    "from sklearn.svm import SVC\n",
    "\n",
    "param_grid = {'C': [0.001, 0.01, 0.1, 1, 10, 100],\n",
    "              'gamma': [0.001, 0.01, 0.1, 1, 10, 100]}\n",
    "print(\"Parameter grid:\\n{}\".format(param_grid))\n",
    "scv_grid = GridSearchCV(SVC(kernel='linear'), param_grid, cv=5, return_train_score=True)\n",
    "scv_grid.fit(X_train, y_train)\n",
    "print(\"Best parameters: {}\".format(scv_grid.best_params_))\n",
    "print(\"Best cross-validation score: {:.2f}\".format(scv_grid.best_score_))\n",
    "print(\"Accuracy Score train:\",scv_grid.score(X_train, y_train))"
   ]
  },
  {
   "cell_type": "code",
   "execution_count": null,
   "metadata": {
    "collapsed": true
   },
   "outputs": [],
   "source": []
  }
 ],
 "metadata": {
  "kernelspec": {
   "display_name": "Python 3",
   "language": "python",
   "name": "python3"
  },
  "language_info": {
   "codemirror_mode": {
    "name": "ipython",
    "version": 3
   },
   "file_extension": ".py",
   "mimetype": "text/x-python",
   "name": "python",
   "nbconvert_exporter": "python",
   "pygments_lexer": "ipython3",
   "version": "3.6.2"
  }
 },
 "nbformat": 4,
 "nbformat_minor": 2
}
